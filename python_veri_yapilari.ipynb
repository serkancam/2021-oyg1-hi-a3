{
 "cells": [
  {
   "cell_type": "code",
   "execution_count": 1,
   "metadata": {},
   "outputs": [
    {
     "name": "stdout",
     "output_type": "stream",
     "text": [
      "merhaba\n"
     ]
    }
   ],
   "source": [
    "print(\"merhaba\")"
   ]
  },
  {
   "cell_type": "code",
   "execution_count": 3,
   "metadata": {},
   "outputs": [
    {
     "name": "stdout",
     "output_type": "stream",
     "text": [
      "5\n",
      "8\n"
     ]
    },
    {
     "data": {
      "text/plain": [
       "'serkan'"
      ]
     },
     "execution_count": 3,
     "metadata": {},
     "output_type": "execute_result"
    }
   ],
   "source": [
    "a=5\n",
    "b=8\n",
    "print(a)\n",
    "print(b)\n",
    "\"serkan\""
   ]
  },
  {
   "cell_type": "code",
   "execution_count": 6,
   "metadata": {},
   "outputs": [
    {
     "data": {
      "text/plain": [
       "2"
      ]
     },
     "execution_count": 6,
     "metadata": {},
     "output_type": "execute_result"
    }
   ],
   "source": [
    "#listeler  []\n",
    "l1=[1,2,3,4,5]\n",
    "l1[1]"
   ]
  },
  {
   "cell_type": "code",
   "execution_count": 13,
   "metadata": {},
   "outputs": [
    {
     "name": "stdout",
     "output_type": "stream",
     "text": [
      "3\n"
     ]
    },
    {
     "data": {
      "text/plain": [
       "7"
      ]
     },
     "execution_count": 13,
     "metadata": {},
     "output_type": "execute_result"
    }
   ],
   "source": [
    "l2=[3,3,6,2,2,8,6,65,22,2]\n",
    "print(l2.count(2))\n",
    "#l2.clear()\n",
    "l2.index(65)"
   ]
  },
  {
   "cell_type": "code",
   "execution_count": 14,
   "metadata": {},
   "outputs": [
    {
     "data": {
      "text/plain": [
       "[3, 3, 6, 2, 2, 78, 6, 65, 22, 2]"
      ]
     },
     "execution_count": 14,
     "metadata": {},
     "output_type": "execute_result"
    }
   ],
   "source": [
    "l2[5]=78\n",
    "l2"
   ]
  },
  {
   "cell_type": "code",
   "execution_count": 16,
   "metadata": {},
   "outputs": [
    {
     "data": {
      "text/plain": [
       "[[3, 5], [4, 2]]"
      ]
     },
     "execution_count": 16,
     "metadata": {},
     "output_type": "execute_result"
    }
   ],
   "source": [
    "l3=[[3,5],[4,2]]\n",
    "l3"
   ]
  },
  {
   "cell_type": "code",
   "execution_count": null,
   "metadata": {},
   "outputs": [],
   "source": [
    "#demetler ()\n",
    "\n",
    "renk =(3,222,250)\n",
    "renk[2]\n",
    "renk[2]=78# demet/tuple içeriği değiştirilemez\n"
   ]
  },
  {
   "cell_type": "code",
   "execution_count": 26,
   "metadata": {},
   "outputs": [
    {
     "name": "stdout",
     "output_type": "stream",
     "text": [
      "[1, 2, 3, 5]\n",
      "[1, 2, 25, 3, 5]\n"
     ]
    }
   ],
   "source": [
    "#liste ve demete farkları\n",
    "# listeye yeni elemen eklenebilir. append  ve insert ile\n",
    "l4=[1,2,3]\n",
    "l4.append(5)\n",
    "print(l4)\n",
    "l4.insert(2,25)\n",
    "print(l4)"
   ]
  },
  {
   "cell_type": "code",
   "execution_count": 27,
   "metadata": {},
   "outputs": [
    {
     "name": "stdout",
     "output_type": "stream",
     "text": [
      "5\n",
      "[1, 2, 25, 3]\n",
      "25\n",
      "[1, 2, 3]\n"
     ]
    }
   ],
   "source": [
    "deger1=l4.pop()\n",
    "print(deger1)\n",
    "print(l4)\n",
    "deger2=l4.pop(2)\n",
    "print(deger2)\n",
    "print(l4)"
   ]
  },
  {
   "cell_type": "code",
   "execution_count": 51,
   "metadata": {},
   "outputs": [
    {
     "data": {
      "text/plain": [
       "[45, 81, 6, 63, 35, 45, 83, 3, 8, 1, 16, 33, 13, 93, 46, 64, 43, 51, 2, 80]"
      ]
     },
     "execution_count": 51,
     "metadata": {},
     "output_type": "execute_result"
    }
   ],
   "source": [
    "from random import randint\n",
    "#comprehesion \n",
    "l5=[randint(1,100) for _ in range(20)]\n",
    "l5"
   ]
  },
  {
   "cell_type": "code",
   "execution_count": 56,
   "metadata": {},
   "outputs": [
    {
     "name": "stdout",
     "output_type": "stream",
     "text": [
      "[45, 81, 6, 63, 35]\n",
      "2\n",
      "[45, 63, 83, 1, 13, 64, 2]\n",
      "[63, 35, 45, 83, 3]\n"
     ]
    }
   ],
   "source": [
    "kl1=l5[0:5]\n",
    "print(kl1)\n",
    "kl2=l5[-2]\n",
    "print(kl2)\n",
    "kl3=l5[::3]\n",
    "print(kl3)\n",
    "kl4=l5[3:8]\n",
    "print(kl4)"
   ]
  },
  {
   "cell_type": "code",
   "execution_count": 64,
   "metadata": {},
   "outputs": [
    {
     "name": "stdout",
     "output_type": "stream",
     "text": [
      "{'a': 5, 'b': 10, 'c': 25}\n",
      "25\n",
      "{'a': 5, 'b': 10, 'c': 102}\n",
      "{'a': 5, 'b': 10, 'c': 102, 'd': 2022}\n"
     ]
    }
   ],
   "source": [
    "#sözlük {}\n",
    "# key-value--> anahtar-değer çiftleri vardır.\n",
    "# \"a\":5,\"b\":10,\"c\":25\n",
    "\n",
    "sz1={\"a\":5,\"b\":10,\"c\":25}\n",
    "print(sz1)\n",
    "print(sz1[\"c\"])\n",
    "sz1[\"c\"]=102\n",
    "print(sz1)\n",
    "sz1[\"d\"]=2022\n",
    "print(sz1)"
   ]
  },
  {
   "cell_type": "code",
   "execution_count": 65,
   "metadata": {},
   "outputs": [
    {
     "data": {
      "text/plain": [
       "{'ad': ['ahmet', 'ayşe', 'fatma', 'serdar'],\n",
       " 'soyad': ['gül', 'can', 'kan', 'san']}"
      ]
     },
     "execution_count": 65,
     "metadata": {},
     "output_type": "execute_result"
    }
   ],
   "source": [
    "ad=[\"ahmet\",\"ayşe\",\"fatma\",\"serdar\"]\n",
    "soyad=[\"gül\",\"can\",\"kan\",\"san\"]\n",
    "isimler={\"ad\":ad,\"soyad\":soyad}\n",
    "isimler"
   ]
  }
 ],
 "metadata": {
  "interpreter": {
   "hash": "916dbcbb3f70747c44a77c7bcd40155683ae19c65e1c03b4aa3499c5328201f1"
  },
  "kernelspec": {
   "display_name": "Python 3.9.2 64-bit",
   "language": "python",
   "name": "python3"
  },
  "language_info": {
   "codemirror_mode": {
    "name": "ipython",
    "version": 3
   },
   "file_extension": ".py",
   "mimetype": "text/x-python",
   "name": "python",
   "nbconvert_exporter": "python",
   "pygments_lexer": "ipython3",
   "version": "3.9.2"
  },
  "orig_nbformat": 4
 },
 "nbformat": 4,
 "nbformat_minor": 2
}
