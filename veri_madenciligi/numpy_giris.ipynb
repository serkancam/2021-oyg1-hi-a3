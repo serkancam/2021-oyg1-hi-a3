{
 "cells": [
  {
   "cell_type": "code",
   "execution_count": 1,
   "metadata": {},
   "outputs": [],
   "source": [
    "import numpy as np\n",
    "from random import randint"
   ]
  },
  {
   "cell_type": "code",
   "execution_count": 2,
   "metadata": {},
   "outputs": [
    {
     "name": "stdout",
     "output_type": "stream",
     "text": [
      "5049659043\n"
     ]
    }
   ],
   "source": [
    "l1=[]\n",
    "for _ in range(100_000_000):\n",
    "    l1.append(randint(1,100))\n",
    "\n",
    "toplam=0\n",
    "for i in l1:\n",
    "    toplam+=i\n",
    "\n",
    "print(toplam)"
   ]
  },
  {
   "cell_type": "code",
   "execution_count": 3,
   "metadata": {},
   "outputs": [
    {
     "name": "stdout",
     "output_type": "stream",
     "text": [
      "500058810\n"
     ]
    }
   ],
   "source": [
    "l2=np.random.randint(1,100,size=10_000_000)\n",
    "print(l2.sum())"
   ]
  },
  {
   "cell_type": "code",
   "execution_count": 7,
   "metadata": {},
   "outputs": [
    {
     "name": "stdout",
     "output_type": "stream",
     "text": [
      "size= 4\n",
      "shape (4,)\n",
      "ndim 1\n"
     ]
    }
   ],
   "source": [
    "# numpy veritipi ndarray( n dimension array, çok boyutlu dizi)\n",
    "nd1=np.array([3,5,8,10])\n",
    "print(\"size=\",nd1.size)\n",
    "print(\"shape=\",nd1.shape)\n",
    "print(\"ndim=\",nd1.ndim)"
   ]
  },
  {
   "cell_type": "code",
   "execution_count": 17,
   "metadata": {},
   "outputs": [
    {
     "name": "stdout",
     "output_type": "stream",
     "text": [
      "size= 6\n",
      "shape= (2, 3)\n",
      "ndim= 2\n",
      "en büyük= 55\n",
      "en küçük 17\n",
      "toplam 178\n",
      "nd2*3= [[ 51  63 105]\n",
      " [ 90  60 165]]\n",
      "nd2/3= [[ 5.66666667  7.         11.66666667]\n",
      " [10.          6.66666667 18.33333333]]\n",
      "nd2 deverik(transpoze)\n",
      " [[17 30]\n",
      " [21 20]\n",
      " [35 55]]\n",
      "nd2 deverik(transpoze)\n",
      " (3, 2)\n"
     ]
    }
   ],
   "source": [
    "nd2=np.array([[17,21,35],[30,20,55]])\n",
    "print(\"size=\",nd2.size)\n",
    "print(\"shape=\",nd2.shape)\n",
    "print(\"ndim=\",nd2.ndim)\n",
    "print(\"en büyük=\",nd2.max())\n",
    "print(\"en küçük\",nd2.min())\n",
    "print(\"toplam\",nd2.sum())\n",
    "print(\"nd2*3=\",nd2*3)\n",
    "print(\"nd2/3=\",nd2/3)\n",
    "print(\"nd2 deverik(transpoze)\\n\",nd2.T)\n",
    "print(\"nd2 deverik(transpoze)\\n\",nd2.T.shape)"
   ]
  }
 ],
 "metadata": {
  "interpreter": {
   "hash": "916dbcbb3f70747c44a77c7bcd40155683ae19c65e1c03b4aa3499c5328201f1"
  },
  "kernelspec": {
   "display_name": "Python 3.9.2 64-bit",
   "language": "python",
   "name": "python3"
  },
  "language_info": {
   "codemirror_mode": {
    "name": "ipython",
    "version": 3
   },
   "file_extension": ".py",
   "mimetype": "text/x-python",
   "name": "python",
   "nbconvert_exporter": "python",
   "pygments_lexer": "ipython3",
   "version": "3.9.2"
  },
  "orig_nbformat": 4
 },
 "nbformat": 4,
 "nbformat_minor": 2
}
