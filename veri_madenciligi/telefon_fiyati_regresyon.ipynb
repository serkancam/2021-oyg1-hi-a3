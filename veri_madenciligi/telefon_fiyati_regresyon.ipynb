{
 "cells": [
  {
   "cell_type": "code",
   "execution_count": 44,
   "metadata": {},
   "outputs": [],
   "source": [
    "# telefon_fiyati_regresyon.ipynb\n",
    "import pandas as pd\n",
    "import numpy as np\n",
    "from sklearn.linear_model import LinearRegression"
   ]
  },
  {
   "cell_type": "code",
   "execution_count": 45,
   "metadata": {},
   "outputs": [
    {
     "data": {
      "text/html": [
       "<div>\n",
       "<style scoped>\n",
       "    .dataframe tbody tr th:only-of-type {\n",
       "        vertical-align: middle;\n",
       "    }\n",
       "\n",
       "    .dataframe tbody tr th {\n",
       "        vertical-align: top;\n",
       "    }\n",
       "\n",
       "    .dataframe thead th {\n",
       "        text-align: right;\n",
       "    }\n",
       "</style>\n",
       "<table border=\"1\" class=\"dataframe\">\n",
       "  <thead>\n",
       "    <tr style=\"text-align: right;\">\n",
       "      <th></th>\n",
       "      <th>Telefon kodu</th>\n",
       "      <th>RAM Kapasitesi</th>\n",
       "      <th>Dahili hafiza</th>\n",
       "      <th>Ekran Tipi</th>\n",
       "      <th>Fiyat</th>\n",
       "    </tr>\n",
       "  </thead>\n",
       "  <tbody>\n",
       "    <tr>\n",
       "      <th>0</th>\n",
       "      <td>T1</td>\n",
       "      <td>4</td>\n",
       "      <td>128</td>\n",
       "      <td>SUPER AMOLED</td>\n",
       "      <td>3300.0</td>\n",
       "    </tr>\n",
       "    <tr>\n",
       "      <th>1</th>\n",
       "      <td>T2</td>\n",
       "      <td>6</td>\n",
       "      <td>256</td>\n",
       "      <td>AMOLED</td>\n",
       "      <td>4400.0</td>\n",
       "    </tr>\n",
       "    <tr>\n",
       "      <th>2</th>\n",
       "      <td>T3</td>\n",
       "      <td>4</td>\n",
       "      <td>128</td>\n",
       "      <td>AMOLED</td>\n",
       "      <td>2700.0</td>\n",
       "    </tr>\n",
       "    <tr>\n",
       "      <th>3</th>\n",
       "      <td>T4</td>\n",
       "      <td>6</td>\n",
       "      <td>128</td>\n",
       "      <td>IPS</td>\n",
       "      <td>3600.0</td>\n",
       "    </tr>\n",
       "    <tr>\n",
       "      <th>4</th>\n",
       "      <td>T5</td>\n",
       "      <td>6</td>\n",
       "      <td>64</td>\n",
       "      <td>IPS</td>\n",
       "      <td>3200.0</td>\n",
       "    </tr>\n",
       "    <tr>\n",
       "      <th>5</th>\n",
       "      <td>T6</td>\n",
       "      <td>8</td>\n",
       "      <td>128</td>\n",
       "      <td>SUPER AMOLED</td>\n",
       "      <td>4100.0</td>\n",
       "    </tr>\n",
       "    <tr>\n",
       "      <th>6</th>\n",
       "      <td>T7</td>\n",
       "      <td>4</td>\n",
       "      <td>64</td>\n",
       "      <td>AMOLED</td>\n",
       "      <td>2400.0</td>\n",
       "    </tr>\n",
       "    <tr>\n",
       "      <th>7</th>\n",
       "      <td>T8</td>\n",
       "      <td>4</td>\n",
       "      <td>64</td>\n",
       "      <td>SUPER AMOLED</td>\n",
       "      <td>3000.0</td>\n",
       "    </tr>\n",
       "    <tr>\n",
       "      <th>8</th>\n",
       "      <td>T9</td>\n",
       "      <td>8</td>\n",
       "      <td>256</td>\n",
       "      <td>IPS</td>\n",
       "      <td>4200.0</td>\n",
       "    </tr>\n",
       "    <tr>\n",
       "      <th>9</th>\n",
       "      <td>T10</td>\n",
       "      <td>6</td>\n",
       "      <td>256</td>\n",
       "      <td>IPS</td>\n",
       "      <td>NaN</td>\n",
       "    </tr>\n",
       "    <tr>\n",
       "      <th>10</th>\n",
       "      <td>T11</td>\n",
       "      <td>8</td>\n",
       "      <td>128</td>\n",
       "      <td>AMOLED</td>\n",
       "      <td>NaN</td>\n",
       "    </tr>\n",
       "  </tbody>\n",
       "</table>\n",
       "</div>"
      ],
      "text/plain": [
       "   Telefon kodu  RAM Kapasitesi  Dahili hafiza    Ekran Tipi   Fiyat\n",
       "0            T1               4            128  SUPER AMOLED  3300.0\n",
       "1            T2               6            256        AMOLED  4400.0\n",
       "2            T3               4            128        AMOLED  2700.0\n",
       "3            T4               6            128           IPS  3600.0\n",
       "4            T5               6             64           IPS  3200.0\n",
       "5            T6               8            128  SUPER AMOLED  4100.0\n",
       "6            T7               4             64        AMOLED  2400.0\n",
       "7            T8               4             64  SUPER AMOLED  3000.0\n",
       "8            T9               8            256           IPS  4200.0\n",
       "9           T10               6            256           IPS     NaN\n",
       "10          T11               8            128        AMOLED     NaN"
      ]
     },
     "execution_count": 45,
     "metadata": {},
     "output_type": "execute_result"
    }
   ],
   "source": [
    "veri = pd.read_csv(\"telefon_fiyatlari.csv\")\n",
    "veri"
   ]
  },
  {
   "cell_type": "code",
   "execution_count": 46,
   "metadata": {},
   "outputs": [
    {
     "data": {
      "text/html": [
       "<div>\n",
       "<style scoped>\n",
       "    .dataframe tbody tr th:only-of-type {\n",
       "        vertical-align: middle;\n",
       "    }\n",
       "\n",
       "    .dataframe tbody tr th {\n",
       "        vertical-align: top;\n",
       "    }\n",
       "\n",
       "    .dataframe thead th {\n",
       "        text-align: right;\n",
       "    }\n",
       "</style>\n",
       "<table border=\"1\" class=\"dataframe\">\n",
       "  <thead>\n",
       "    <tr style=\"text-align: right;\">\n",
       "      <th></th>\n",
       "      <th>Telefon kodu</th>\n",
       "      <th>RAM Kapasitesi</th>\n",
       "      <th>Dahili hafiza</th>\n",
       "      <th>Ekran Tipi</th>\n",
       "      <th>Fiyat</th>\n",
       "    </tr>\n",
       "  </thead>\n",
       "  <tbody>\n",
       "    <tr>\n",
       "      <th>0</th>\n",
       "      <td>T1</td>\n",
       "      <td>4</td>\n",
       "      <td>128</td>\n",
       "      <td>3</td>\n",
       "      <td>3300.0</td>\n",
       "    </tr>\n",
       "    <tr>\n",
       "      <th>1</th>\n",
       "      <td>T2</td>\n",
       "      <td>6</td>\n",
       "      <td>256</td>\n",
       "      <td>2</td>\n",
       "      <td>4400.0</td>\n",
       "    </tr>\n",
       "    <tr>\n",
       "      <th>2</th>\n",
       "      <td>T3</td>\n",
       "      <td>4</td>\n",
       "      <td>128</td>\n",
       "      <td>2</td>\n",
       "      <td>2700.0</td>\n",
       "    </tr>\n",
       "    <tr>\n",
       "      <th>3</th>\n",
       "      <td>T4</td>\n",
       "      <td>6</td>\n",
       "      <td>128</td>\n",
       "      <td>1</td>\n",
       "      <td>3600.0</td>\n",
       "    </tr>\n",
       "    <tr>\n",
       "      <th>4</th>\n",
       "      <td>T5</td>\n",
       "      <td>6</td>\n",
       "      <td>64</td>\n",
       "      <td>1</td>\n",
       "      <td>3200.0</td>\n",
       "    </tr>\n",
       "    <tr>\n",
       "      <th>5</th>\n",
       "      <td>T6</td>\n",
       "      <td>8</td>\n",
       "      <td>128</td>\n",
       "      <td>3</td>\n",
       "      <td>4100.0</td>\n",
       "    </tr>\n",
       "    <tr>\n",
       "      <th>6</th>\n",
       "      <td>T7</td>\n",
       "      <td>4</td>\n",
       "      <td>64</td>\n",
       "      <td>2</td>\n",
       "      <td>2400.0</td>\n",
       "    </tr>\n",
       "    <tr>\n",
       "      <th>7</th>\n",
       "      <td>T8</td>\n",
       "      <td>4</td>\n",
       "      <td>64</td>\n",
       "      <td>3</td>\n",
       "      <td>3000.0</td>\n",
       "    </tr>\n",
       "    <tr>\n",
       "      <th>8</th>\n",
       "      <td>T9</td>\n",
       "      <td>8</td>\n",
       "      <td>256</td>\n",
       "      <td>1</td>\n",
       "      <td>4200.0</td>\n",
       "    </tr>\n",
       "    <tr>\n",
       "      <th>9</th>\n",
       "      <td>T10</td>\n",
       "      <td>6</td>\n",
       "      <td>256</td>\n",
       "      <td>1</td>\n",
       "      <td>NaN</td>\n",
       "    </tr>\n",
       "    <tr>\n",
       "      <th>10</th>\n",
       "      <td>T11</td>\n",
       "      <td>8</td>\n",
       "      <td>128</td>\n",
       "      <td>2</td>\n",
       "      <td>NaN</td>\n",
       "    </tr>\n",
       "  </tbody>\n",
       "</table>\n",
       "</div>"
      ],
      "text/plain": [
       "   Telefon kodu  RAM Kapasitesi  Dahili hafiza  Ekran Tipi   Fiyat\n",
       "0            T1               4            128           3  3300.0\n",
       "1            T2               6            256           2  4400.0\n",
       "2            T3               4            128           2  2700.0\n",
       "3            T4               6            128           1  3600.0\n",
       "4            T5               6             64           1  3200.0\n",
       "5            T6               8            128           3  4100.0\n",
       "6            T7               4             64           2  2400.0\n",
       "7            T8               4             64           3  3000.0\n",
       "8            T9               8            256           1  4200.0\n",
       "9           T10               6            256           1     NaN\n",
       "10          T11               8            128           2     NaN"
      ]
     },
     "execution_count": 46,
     "metadata": {},
     "output_type": "execute_result"
    }
   ],
   "source": [
    "veri[\"Ekran Tipi\"].replace(to_replace=[\"SUPER AMOLED\",\"AMOLED\",\"IPS\"],value=[3,2,1],inplace=True)\n",
    "veri"
   ]
  },
  {
   "cell_type": "code",
   "execution_count": 47,
   "metadata": {},
   "outputs": [],
   "source": [
    "# sklearn 2 boyutlu numpy dizileri ile çalışır onun için değerlerin values kısmı alınır\n",
    "#eğitimde kullanılacak X ve y değerleri\n",
    "x_egitim=veri.iloc[0:9,1:4].values\n",
    "y_egitim=veri.iloc[0:9,4].values.reshape(-1,1)\n",
    "#tahmin edilecek x  değeri\n",
    "x_tahmin=veri.iloc[9:,1:4].values"
   ]
  },
  {
   "cell_type": "code",
   "execution_count": 48,
   "metadata": {},
   "outputs": [
    {
     "data": {
      "text/plain": [
       "LinearRegression()"
      ]
     },
     "execution_count": 48,
     "metadata": {},
     "output_type": "execute_result"
    }
   ],
   "source": [
    "lr=LinearRegression()# doğrusal regresyon analizi için lr nesnesi oluşturuldu\n",
    "lr.fit(x_egitim,y_egitim) # lr nesnesine ait fit methodu ile x ve y değerleri kullanılarak eğitim yapıldı."
   ]
  },
  {
   "cell_type": "code",
   "execution_count": 49,
   "metadata": {},
   "outputs": [
    {
     "name": "stdout",
     "output_type": "stream",
     "text": [
      "[[251.78571429   4.85491071 171.42857143]]\n",
      "[1035.71428571]\n"
     ]
    }
   ],
   "source": [
    "# f(x)=ax1+bx2+cx3+d\n",
    "print(lr.coef_)#[a,b,c]\n",
    "print(lr.intercept_)# d değeri"
   ]
  },
  {
   "cell_type": "code",
   "execution_count": 50,
   "metadata": {},
   "outputs": [
    {
     "data": {
      "text/plain": [
       "array([[4807.14285714]])"
      ]
     },
     "execution_count": 50,
     "metadata": {},
     "output_type": "execute_result"
    }
   ],
   "source": [
    "lr.predict([[8,256,3]])"
   ]
  },
  {
   "cell_type": "code",
   "execution_count": 51,
   "metadata": {},
   "outputs": [
    {
     "data": {
      "text/plain": [
       "array([[3960.71428571],\n",
       "       [4014.28571429]])"
      ]
     },
     "execution_count": 51,
     "metadata": {},
     "output_type": "execute_result"
    }
   ],
   "source": [
    "lr.predict(x_tahmin)"
   ]
  }
 ],
 "metadata": {
  "interpreter": {
   "hash": "916dbcbb3f70747c44a77c7bcd40155683ae19c65e1c03b4aa3499c5328201f1"
  },
  "kernelspec": {
   "display_name": "Python 3.9.2 64-bit",
   "language": "python",
   "name": "python3"
  },
  "language_info": {
   "codemirror_mode": {
    "name": "ipython",
    "version": 3
   },
   "file_extension": ".py",
   "mimetype": "text/x-python",
   "name": "python",
   "nbconvert_exporter": "python",
   "pygments_lexer": "ipython3",
   "version": "3.9.2"
  },
  "orig_nbformat": 4
 },
 "nbformat": 4,
 "nbformat_minor": 2
}
